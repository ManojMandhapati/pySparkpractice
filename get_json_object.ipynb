{
 "cells": [
  {
   "cell_type": "markdown",
   "metadata": {
    "application/vnd.databricks.v1+cell": {
     "cellMetadata": {},
     "inputWidgets": {},
     "nuid": "a24f7c9e-4053-4cb9-a241-9093431816ef",
     "showTitle": false,
     "tableResultSettingsMap": {},
     "title": ""
    }
   },
   "source": [
    "- get_json_object is used to extract the JSON string based on path from JSON column."
   ]
  },
  {
   "cell_type": "code",
   "execution_count": 0,
   "metadata": {
    "application/vnd.databricks.v1+cell": {
     "cellMetadata": {
      "byteLimit": 2048000,
      "rowLimit": 10000
     },
     "inputWidgets": {},
     "nuid": "e1f6e6de-315f-47e9-9a2c-074c6df9b045",
     "showTitle": false,
     "tableResultSettingsMap": {},
     "title": ""
    }
   },
   "outputs": [
    {
     "output_type": "stream",
     "name": "stdout",
     "output_type": "stream",
     "text": [
      "root\n |-- name: string (nullable = true)\n |-- props: string (nullable = true)\n\n"
     ]
    }
   ],
   "source": [
    "data = [('manoj','{\"address\":{\"city\":\"pune\",\"state\":\"maharashtra\"},\"age\":25}'),('rahul','{\"address\":{\"city\":\"mumbai\",\"state\":\"maharashtra\"}, \"age\":28}'),('rahul','{\"address\":{\"city\":\"mumbai\",\"state\":\"maharashtra\"}, \"age\":28}')]\n",
    "schema = ['name','props']\n",
    "df = spark.createDataFrame(data,schema)\n",
    "df.printSchema()"
   ]
  },
  {
   "cell_type": "code",
   "execution_count": 0,
   "metadata": {
    "application/vnd.databricks.v1+cell": {
     "cellMetadata": {
      "byteLimit": 2048000,
      "rowLimit": 10000
     },
     "inputWidgets": {},
     "nuid": "26d8e063-9828-4221-aaf5-124a1ab20ce8",
     "showTitle": false,
     "tableResultSettingsMap": {},
     "title": ""
    },
    "jupyter": {
     "outputs_hidden": true
    }
   },
   "outputs": [],
   "source": [
    "from pyspark.sql.functions import get_json_object\n"
   ]
  },
  {
   "cell_type": "code",
   "execution_count": 0,
   "metadata": {
    "application/vnd.databricks.v1+cell": {
     "cellMetadata": {
      "byteLimit": 2048000,
      "rowLimit": 10000
     },
     "inputWidgets": {},
     "nuid": "63aab0ae-cf65-4bd3-adf1-d6c1c4b1f119",
     "showTitle": false,
     "tableResultSettingsMap": {},
     "title": ""
    }
   },
   "outputs": [
    {
     "output_type": "stream",
     "name": "stdout",
     "output_type": "stream",
     "text": [
      "+-----+------+-----------+\n| name|  city|      state|\n+-----+------+-----------+\n|manoj|  pune|maharashtra|\n|rahul|mumbai|maharashtra|\n|rahul|mumbai|maharashtra|\n+-----+------+-----------+\n\n"
     ]
    }
   ],
   "source": [
    "df2 = df.select('name',get_json_object('props','$.address.city').alias('city'),get_json_object('props','$.address.state').alias('state'))\n",
    "df2.show()"
   ]
  },
  {
   "cell_type": "code",
   "execution_count": 0,
   "metadata": {
    "application/vnd.databricks.v1+cell": {
     "cellMetadata": {
      "byteLimit": 2048000,
      "rowLimit": 10000
     },
     "inputWidgets": {},
     "nuid": "c195dead-1ce8-4013-ad54-bd6bceb8a450",
     "showTitle": false,
     "tableResultSettingsMap": {},
     "title": ""
    }
   },
   "outputs": [
    {
     "output_type": "stream",
     "name": "stdout",
     "output_type": "stream",
     "text": [
      "+-----+---+\n| name|Age|\n+-----+---+\n|manoj| 25|\n|rahul| 28|\n|rahul| 28|\n+-----+---+\n\n"
     ]
    }
   ],
   "source": [
    "df3 = df.select('name',get_json_object('props','$.age').alias('Age'))\n",
    "df3.show()"
   ]
  },
  {
   "cell_type": "code",
   "execution_count": 0,
   "metadata": {
    "application/vnd.databricks.v1+cell": {
     "cellMetadata": {},
     "inputWidgets": {},
     "nuid": "c1ca5d07-7ea3-4e26-b42e-1f52b2ec9ee2",
     "showTitle": false,
     "tableResultSettingsMap": {},
     "title": ""
    }
   },
   "outputs": [],
   "source": []
  }
 ],
 "metadata": {
  "application/vnd.databricks.v1+notebook": {
   "dashboards": [],
   "environmentMetadata": {
    "base_environment": "",
    "client": "1"
   },
   "language": "python",
   "notebookMetadata": {
    "pythonIndentUnit": 4
   },
   "notebookName": "get_json_object",
   "widgets": {}
  },
  "language_info": {
   "name": "python"
  }
 },
 "nbformat": 4,
 "nbformat_minor": 0
}