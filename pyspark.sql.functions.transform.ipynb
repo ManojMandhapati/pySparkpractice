{
 "cells": [
  {
   "cell_type": "markdown",
   "metadata": {
    "application/vnd.databricks.v1+cell": {
     "cellMetadata": {
      "byteLimit": 2048000,
      "rowLimit": 10000
     },
     "inputWidgets": {},
     "nuid": "f2987bfb-7bed-46e7-b36a-d86f9d6dd8da",
     "showTitle": false,
     "tableResultSettingsMap": {},
     "title": ""
    }
   },
   "source": [
    "# pyspark.sql.fuctions.transform()\n",
    "- It is used to apply transformtaion on a column of type array. This fucnction applies the specific transformation on every element of the array and returns an object of ArrayType."
   ]
  },
  {
   "cell_type": "code",
   "execution_count": 0,
   "metadata": {
    "application/vnd.databricks.v1+cell": {
     "cellMetadata": {
      "byteLimit": 2048000,
      "rowLimit": 10000
     },
     "inputWidgets": {},
     "nuid": "6a50eb6a-f11a-4b36-a4b5-7c4f73c8dae1",
     "showTitle": false,
     "tableResultSettingsMap": {},
     "title": ""
    }
   },
   "outputs": [
    {
     "output_type": "stream",
     "name": "stdout",
     "output_type": "stream",
     "text": [
      "root\n |-- id: long (nullable = true)\n |-- name: string (nullable = true)\n |-- skills: array (nullable = true)\n |    |-- element: string (containsNull = true)\n\n"
     ]
    }
   ],
   "source": [
    "from pyspark.sql.functions import transform\n",
    "data = [(1,'manoj',['azure','dotnet']),(2,'megha',['hplc','qa']),(3,'Naveen',['manual','python'])]\n",
    "schema = ['id','name','skills']\n",
    "df = spark.createDataFrame(data,schema)\n",
    "df.printSchema()"
   ]
  },
  {
   "cell_type": "code",
   "execution_count": 0,
   "metadata": {
    "application/vnd.databricks.v1+cell": {
     "cellMetadata": {
      "byteLimit": 2048000,
      "rowLimit": 10000
     },
     "inputWidgets": {},
     "nuid": "b3d0fb5e-9718-42c0-882b-6eeee3a3cf56",
     "showTitle": false,
     "tableResultSettingsMap": {},
     "title": ""
    }
   },
   "outputs": [
    {
     "output_type": "stream",
     "name": "stdout",
     "output_type": "stream",
     "text": [
      "+---+------+----------------+\n| id|  name|          Skills|\n+---+------+----------------+\n|  1| manoj| [AZURE, DOTNET]|\n|  2| megha|      [HPLC, QA]|\n|  3|Naveen|[MANUAL, PYTHON]|\n+---+------+----------------+\n\n"
     ]
    }
   ],
   "source": [
    "df.select('id','name',transform('skills',lambda x: upper(x)).alias('Skills')).show()"
   ]
  },
  {
   "cell_type": "code",
   "execution_count": 0,
   "metadata": {
    "application/vnd.databricks.v1+cell": {
     "cellMetadata": {
      "byteLimit": 2048000,
      "rowLimit": 10000
     },
     "inputWidgets": {},
     "nuid": "982db267-b721-4f86-955e-2f00bbaac29a",
     "showTitle": false,
     "tableResultSettingsMap": {},
     "title": ""
    }
   },
   "outputs": [],
   "source": [
    "def convertToUpper(x):\n",
    "    return upper(x)"
   ]
  },
  {
   "cell_type": "code",
   "execution_count": 0,
   "metadata": {
    "application/vnd.databricks.v1+cell": {
     "cellMetadata": {
      "byteLimit": 2048000,
      "rowLimit": 10000
     },
     "inputWidgets": {},
     "nuid": "f15180ed-6f2a-4f89-bfb2-9acdf75865f7",
     "showTitle": false,
     "tableResultSettingsMap": {},
     "title": ""
    }
   },
   "outputs": [
    {
     "output_type": "stream",
     "name": "stdout",
     "output_type": "stream",
     "text": [
      "+---+----------------+\n| id|          Skills|\n+---+----------------+\n|  1| [AZURE, DOTNET]|\n|  2|      [HPLC, QA]|\n|  3|[MANUAL, PYTHON]|\n+---+----------------+\n\n"
     ]
    }
   ],
   "source": [
    "df.select('id',transform('skills',convertToUpper).alias('Skills')).show()"
   ]
  },
  {
   "cell_type": "code",
   "execution_count": 0,
   "metadata": {
    "application/vnd.databricks.v1+cell": {
     "cellMetadata": {},
     "inputWidgets": {},
     "nuid": "dcb9e452-cfa9-44fb-8d71-0c886cf83149",
     "showTitle": false,
     "tableResultSettingsMap": {},
     "title": ""
    }
   },
   "outputs": [],
   "source": []
  }
 ],
 "metadata": {
  "application/vnd.databricks.v1+notebook": {
   "dashboards": [],
   "environmentMetadata": null,
   "language": "python",
   "notebookMetadata": {
    "pythonIndentUnit": 4
   },
   "notebookName": "pyspark.sql.functions.transform",
   "widgets": {}
  }
 },
 "nbformat": 4,
 "nbformat_minor": 0
}
