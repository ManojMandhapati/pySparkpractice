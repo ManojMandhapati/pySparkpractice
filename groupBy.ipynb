{
 "cells": [
  {
   "cell_type": "code",
   "execution_count": 0,
   "metadata": {
    "application/vnd.databricks.v1+cell": {
     "cellMetadata": {
      "byteLimit": 2048000,
      "rowLimit": 10000
     },
     "inputWidgets": {},
     "nuid": "235b2678-9b86-4274-8d62-020b77828307",
     "showTitle": false,
     "tableResultSettingsMap": {},
     "title": ""
    }
   },
   "outputs": [],
   "source": [
    "from pyspark.sql.functions import *\n",
    "data = [(1,'manoj','male',3000,'DE'),(2,'megha','female',4000,'QA'),(3,'Naveen','male',5000,'SE'),(4,'Manasa','female',6000,'Payroll'),(5,'vicky','male',13000,'DE'),(1,'Nikky','male',7000,'HR'),(1,'Hema','female',3000,'Payroll'),(1,'Sree','male',3000,'Payroll')]\n",
    "schema = ['id','name','gender','salary','dept']\n",
    "df = spark.createDataFrame(data,schema)"
   ]
  },
  {
   "cell_type": "code",
   "execution_count": 0,
   "metadata": {
    "application/vnd.databricks.v1+cell": {
     "cellMetadata": {
      "byteLimit": 2048000,
      "rowLimit": 10000
     },
     "inputWidgets": {},
     "nuid": "60780e52-01c3-46cc-90bc-68221e6424c6",
     "showTitle": false,
     "tableResultSettingsMap": {},
     "title": ""
    }
   },
   "outputs": [
    {
     "output_type": "stream",
     "name": "stdout",
     "output_type": "stream",
     "text": [
      "+-------+-----+\n|   dept|count|\n+-------+-----+\n|     DE|    2|\n|     QA|    1|\n|     SE|    1|\n|Payroll|    3|\n|     HR|    1|\n+-------+-----+\n\n"
     ]
    }
   ],
   "source": [
    "df.groupBy(df.dept).count().show()"
   ]
  },
  {
   "cell_type": "code",
   "execution_count": 0,
   "metadata": {
    "application/vnd.databricks.v1+cell": {
     "cellMetadata": {
      "byteLimit": 2048000,
      "rowLimit": 10000
     },
     "inputWidgets": {},
     "nuid": "77fd62f1-f5c5-4f93-bbd4-16f8e2208aee",
     "showTitle": false,
     "tableResultSettingsMap": {},
     "title": ""
    }
   },
   "outputs": [
    {
     "output_type": "stream",
     "name": "stdout",
     "output_type": "stream",
     "text": [
      "+-------+-----------+\n|   dept|avg(salary)|\n+-------+-----------+\n|     DE|     8000.0|\n|     QA|     4000.0|\n|     SE|     5000.0|\n|Payroll|     4000.0|\n|     HR|     7000.0|\n+-------+-----------+\n\n"
     ]
    }
   ],
   "source": [
    "df.groupBy(df.dept).avg('salary').show()"
   ]
  },
  {
   "cell_type": "code",
   "execution_count": 0,
   "metadata": {
    "application/vnd.databricks.v1+cell": {
     "cellMetadata": {
      "byteLimit": 2048000,
      "rowLimit": 10000
     },
     "inputWidgets": {},
     "nuid": "e234814b-4c9b-447f-9c6d-5659ae9c01a7",
     "showTitle": false,
     "tableResultSettingsMap": {},
     "title": ""
    }
   },
   "outputs": [
    {
     "output_type": "stream",
     "name": "stdout",
     "output_type": "stream",
     "text": [
      "+-------+-----------+\n|   dept|min(salary)|\n+-------+-----------+\n|     DE|       3000|\n|     QA|       4000|\n|     SE|       5000|\n|Payroll|       3000|\n|     HR|       7000|\n+-------+-----------+\n\n"
     ]
    }
   ],
   "source": [
    "df.groupBy(df.dept).min('salary').show()"
   ]
  },
  {
   "cell_type": "code",
   "execution_count": 0,
   "metadata": {
    "application/vnd.databricks.v1+cell": {
     "cellMetadata": {
      "byteLimit": 2048000,
      "rowLimit": 10000
     },
     "inputWidgets": {},
     "nuid": "59752c8e-408b-44d6-a663-ec10ce71c368",
     "showTitle": false,
     "tableResultSettingsMap": {},
     "title": ""
    }
   },
   "outputs": [
    {
     "output_type": "stream",
     "name": "stdout",
     "output_type": "stream",
     "text": [
      "+-------+-----------+\n|   dept|max(salary)|\n+-------+-----------+\n|     DE|      13000|\n|     QA|       4000|\n|     SE|       5000|\n|Payroll|       6000|\n|     HR|       7000|\n+-------+-----------+\n\n"
     ]
    }
   ],
   "source": [
    "df.groupBy(df.dept).max('salary').show()"
   ]
  },
  {
   "cell_type": "code",
   "execution_count": 0,
   "metadata": {
    "application/vnd.databricks.v1+cell": {
     "cellMetadata": {
      "byteLimit": 2048000,
      "rowLimit": 10000
     },
     "inputWidgets": {},
     "nuid": "c8eec674-0bf4-43e2-80bb-4de46f09ebcc",
     "showTitle": false,
     "tableResultSettingsMap": {},
     "title": ""
    }
   },
   "outputs": [
    {
     "output_type": "stream",
     "name": "stdout",
     "output_type": "stream",
     "text": [
      "+-------+------+-----+\n|   dept|gender|count|\n+-------+------+-----+\n|     DE|  male|    2|\n|     QA|female|    1|\n|     SE|  male|    1|\n|Payroll|female|    2|\n|     HR|  male|    1|\n|Payroll|  male|    1|\n+-------+------+-----+\n\n"
     ]
    }
   ],
   "source": [
    "df.groupBy(df.dept,df.gender).count().show()"
   ]
  },
  {
   "cell_type": "code",
   "execution_count": 0,
   "metadata": {
    "application/vnd.databricks.v1+cell": {
     "cellMetadata": {},
     "inputWidgets": {},
     "nuid": "685512ae-910f-4d0e-b4b4-a9bef191326d",
     "showTitle": false,
     "tableResultSettingsMap": {},
     "title": ""
    }
   },
   "outputs": [],
   "source": []
  }
 ],
 "metadata": {
  "application/vnd.databricks.v1+notebook": {
   "dashboards": [],
   "environmentMetadata": null,
   "language": "python",
   "notebookMetadata": {
    "pythonIndentUnit": 4
   },
   "notebookName": "groupBy",
   "widgets": {}
  }
 },
 "nbformat": 4,
 "nbformat_minor": 0
}
