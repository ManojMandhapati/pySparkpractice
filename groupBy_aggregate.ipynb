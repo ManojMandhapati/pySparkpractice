{
 "cells": [
  {
   "cell_type": "code",
   "execution_count": 0,
   "metadata": {
    "application/vnd.databricks.v1+cell": {
     "cellMetadata": {
      "byteLimit": 2048000,
      "rowLimit": 10000
     },
     "inputWidgets": {},
     "nuid": "afef2bca-514a-4176-b7f1-088cca1703e9",
     "showTitle": false,
     "tableResultSettingsMap": {},
     "title": ""
    }
   },
   "outputs": [
    {
     "output_type": "stream",
     "name": "stdout",
     "output_type": "stream",
     "text": [
      "+-------+-----+\n|   dept|count|\n+-------+-----+\n|     DE|    2|\n|     QA|    1|\n|     SE|    1|\n|Payroll|    3|\n|     HR|    1|\n+-------+-----+\n\n"
     ]
    }
   ],
   "source": [
    "from pyspark.sql.functions import *\n",
    "data = [(1,'manoj','male',3000,'DE'),(2,'megha','female',4000,'QA'),(3,'Naveen','male',5000,'SE'),(4,'Manasa','female',6000,'Payroll'),(5,'vicky','male',13000,'DE'),(1,'Nikky','male',7000,'HR'),(1,'Hema','female',3000,'Payroll'),(1,'Sree','male',3000,'Payroll')]\n",
    "schema = ['id','name','gender','salary','dept']\n",
    "df = spark.createDataFrame(data,schema)\n",
    "df.groupBy('dept').count().show()"
   ]
  },
  {
   "cell_type": "code",
   "execution_count": 0,
   "metadata": {
    "application/vnd.databricks.v1+cell": {
     "cellMetadata": {
      "byteLimit": 2048000,
      "rowLimit": 10000
     },
     "inputWidgets": {},
     "nuid": "ac6a7324-6a91-44f5-93fa-b36711164941",
     "showTitle": false,
     "tableResultSettingsMap": {},
     "title": ""
    }
   },
   "outputs": [
    {
     "output_type": "stream",
     "name": "stdout",
     "output_type": "stream",
     "text": [
      "+-------+----------+--------------+-------------+\n|   dept|total_emps|minimum_salary|maxium_salary|\n+-------+----------+--------------+-------------+\n|     DE|         2|          3000|        13000|\n|     QA|         1|          4000|         4000|\n|     SE|         1|          5000|         5000|\n|Payroll|         3|          3000|         6000|\n|     HR|         1|          7000|         7000|\n+-------+----------+--------------+-------------+\n\n"
     ]
    }
   ],
   "source": [
    "df.groupBy('dept').agg(count('*').alias ('total_emps'),\\\n",
    "                       min('salary').alias('minimum_salary'),\\\n",
    "                       max('salary').alias('maxium_salary')).show()"
   ]
  },
  {
   "cell_type": "code",
   "execution_count": 0,
   "metadata": {
    "application/vnd.databricks.v1+cell": {
     "cellMetadata": {},
     "inputWidgets": {},
     "nuid": "f41630e2-c1e4-4711-a7e8-59cccb82c630",
     "showTitle": false,
     "tableResultSettingsMap": {},
     "title": ""
    }
   },
   "outputs": [],
   "source": []
  }
 ],
 "metadata": {
  "application/vnd.databricks.v1+notebook": {
   "dashboards": [],
   "environmentMetadata": null,
   "language": "python",
   "notebookMetadata": {
    "pythonIndentUnit": 4
   },
   "notebookName": "groupBy_aggregate",
   "widgets": {}
  }
 },
 "nbformat": 4,
 "nbformat_minor": 0
}
