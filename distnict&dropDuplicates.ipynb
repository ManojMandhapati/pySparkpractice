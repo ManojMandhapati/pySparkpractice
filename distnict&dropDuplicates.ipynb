{
 "cells": [
  {
   "cell_type": "code",
   "execution_count": 0,
   "metadata": {
    "application/vnd.databricks.v1+cell": {
     "cellMetadata": {
      "byteLimit": 2048000,
      "rowLimit": 10000
     },
     "inputWidgets": {},
     "nuid": "0f252441-5e83-4ef2-974c-00c73353be3b",
     "showTitle": false,
     "tableResultSettingsMap": {},
     "title": ""
    }
   },
   "outputs": [
    {
     "output_type": "stream",
     "name": "stdout",
     "output_type": "stream",
     "text": [
      "+---+------+------+------+\n| id|  name|gender|salary|\n+---+------+------+------+\n|  1| manoj|  male|  3000|\n|  2| megha|female|  4000|\n|  2| megha|female|  4000|\n|  3|Naveen|  male|  5000|\n+---+------+------+------+\n\n"
     ]
    }
   ],
   "source": [
    "from pyspark.sql.functions import *\n",
    "data = [(1,'manoj','male',3000),(2,'megha','female',4000),(2,'megha','female',4000),(3,'Naveen','male',5000)]\n",
    "schema = ['id','name','gender','salary']\n",
    "df = spark.createDataFrame(data,schema)\n",
    "df.show()"
   ]
  },
  {
   "cell_type": "code",
   "execution_count": 0,
   "metadata": {
    "application/vnd.databricks.v1+cell": {
     "cellMetadata": {
      "byteLimit": 2048000,
      "rowLimit": 10000
     },
     "inputWidgets": {},
     "nuid": "684748b3-8ccf-4079-be7c-6a384b72787e",
     "showTitle": false,
     "tableResultSettingsMap": {},
     "title": ""
    }
   },
   "outputs": [
    {
     "output_type": "stream",
     "name": "stdout",
     "output_type": "stream",
     "text": [
      "+---+------+------+------+\n| id|  name|gender|salary|\n+---+------+------+------+\n|  1| manoj|  male|  3000|\n|  2| megha|female|  4000|\n|  3|Naveen|  male|  5000|\n+---+------+------+------+\n\n"
     ]
    }
   ],
   "source": [
    "df.distinct().show()"
   ]
  },
  {
   "cell_type": "code",
   "execution_count": 0,
   "metadata": {
    "application/vnd.databricks.v1+cell": {
     "cellMetadata": {
      "byteLimit": 2048000,
      "rowLimit": 10000
     },
     "inputWidgets": {},
     "nuid": "38c956f9-66df-406a-8ef3-e732577fdabf",
     "showTitle": false,
     "tableResultSettingsMap": {},
     "title": ""
    }
   },
   "outputs": [
    {
     "output_type": "stream",
     "name": "stdout",
     "output_type": "stream",
     "text": [
      "+---+------+------+------+\n| id|  name|gender|salary|\n+---+------+------+------+\n|  1| manoj|  male|  3000|\n|  2| megha|female|  4000|\n|  3|Naveen|  male|  5000|\n+---+------+------+------+\n\n"
     ]
    }
   ],
   "source": [
    "df.dropDuplicates().show()"
   ]
  },
  {
   "cell_type": "code",
   "execution_count": 0,
   "metadata": {
    "application/vnd.databricks.v1+cell": {
     "cellMetadata": {
      "byteLimit": 2048000,
      "rowLimit": 10000
     },
     "inputWidgets": {},
     "nuid": "4f166626-1a45-4f3c-90cd-b0694f6913dc",
     "showTitle": false,
     "tableResultSettingsMap": {},
     "title": ""
    }
   },
   "outputs": [
    {
     "output_type": "stream",
     "name": "stdout",
     "output_type": "stream",
     "text": [
      "+---+------+------+------+\n| id|  name|gender|salary|\n+---+------+------+------+\n|  2| megha|female|  4000|\n|  1| manoj|  male|  3000|\n|  3|Naveen|  male|  5000|\n+---+------+------+------+\n\n"
     ]
    }
   ],
   "source": [
    "df.dropDuplicates(['gender','salary']).show()"
   ]
  },
  {
   "cell_type": "code",
   "execution_count": 0,
   "metadata": {
    "application/vnd.databricks.v1+cell": {
     "cellMetadata": {},
     "inputWidgets": {},
     "nuid": "48e623ca-81c8-4046-9f92-0b87a37af9fe",
     "showTitle": false,
     "tableResultSettingsMap": {},
     "title": ""
    }
   },
   "outputs": [],
   "source": []
  }
 ],
 "metadata": {
  "application/vnd.databricks.v1+notebook": {
   "dashboards": [],
   "environmentMetadata": null,
   "language": "python",
   "notebookMetadata": {
    "pythonIndentUnit": 4
   },
   "notebookName": "distnict&dropDuplicates",
   "widgets": {}
  }
 },
 "nbformat": 4,
 "nbformat_minor": 0
}
