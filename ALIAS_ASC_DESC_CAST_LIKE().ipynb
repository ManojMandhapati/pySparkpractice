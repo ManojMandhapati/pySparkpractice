{
 "cells": [
  {
   "cell_type": "code",
   "execution_count": 0,
   "metadata": {
    "application/vnd.databricks.v1+cell": {
     "cellMetadata": {
      "byteLimit": 2048000,
      "rowLimit": 10000
     },
     "inputWidgets": {},
     "nuid": "7230d9a5-0972-4bbd-9a99-2ba8a79d5718",
     "showTitle": false,
     "tableResultSettingsMap": {},
     "title": ""
    }
   },
   "outputs": [
    {
     "output_type": "stream",
     "name": "stdout",
     "output_type": "stream",
     "text": [
      "+------+--------+----------+----------+\n|emp_id|emp_name|emp_gender|emp_salary|\n+------+--------+----------+----------+\n|     1|   manoj|      male|      2000|\n|     2|   megha|    female|      2000|\n|     3|  Naveen|      male|      2000|\n+------+--------+----------+----------+\n\n"
     ]
    }
   ],
   "source": [
    "from pyspark.sql.functions import *\n",
    "data = [(1,'manoj','male',2000),(2,'megha','female',2000),(3,'Naveen','male',2000)]\n",
    "schema = ['id','name','gender','salary']\n",
    "df = spark.createDataFrame(data,schema)\n",
    "#Alaias in practical\n",
    "df.select(df.id.alias('emp_id'),df.name.alias('emp_name') ,df.gender.alias('emp_gender'),df.salary.alias('emp_salary')).show()"
   ]
  },
  {
   "cell_type": "code",
   "execution_count": 0,
   "metadata": {
    "application/vnd.databricks.v1+cell": {
     "cellMetadata": {
      "byteLimit": 2048000,
      "rowLimit": 10000
     },
     "inputWidgets": {},
     "nuid": "e5b7e04e-ffc2-46cb-8935-1ad8693730db",
     "showTitle": false,
     "tableResultSettingsMap": {},
     "title": ""
    }
   },
   "outputs": [
    {
     "output_type": "stream",
     "name": "stdout",
     "output_type": "stream",
     "text": [
      "+---+------+------+------+\n| id|  name|gender|salary|\n+---+------+------+------+\n|  3|Naveen|  male|  2000|\n|  1| manoj|  male|  2000|\n|  2| megha|female|  2000|\n+---+------+------+------+\n\n+---+------+------+------+\n| id|  name|gender|salary|\n+---+------+------+------+\n|  3|Naveen|  male|  2000|\n|  2| megha|female|  2000|\n|  1| manoj|  male|  2000|\n+---+------+------+------+\n\n"
     ]
    }
   ],
   "source": [
    "#ACS and DESC in practical\n",
    "df.sort(df.name.asc()).show()\n",
    "df.sort(df.id.desc()).show()"
   ]
  },
  {
   "cell_type": "code",
   "execution_count": 0,
   "metadata": {
    "application/vnd.databricks.v1+cell": {
     "cellMetadata": {
      "byteLimit": 2048000,
      "rowLimit": 10000
     },
     "inputWidgets": {},
     "nuid": "7742c7e8-cafe-4432-a854-42f07feae529",
     "showTitle": false,
     "tableResultSettingsMap": {},
     "title": ""
    }
   },
   "outputs": [
    {
     "output_type": "stream",
     "name": "stdout",
     "output_type": "stream",
     "text": [
      "root\n |-- salary: integer (nullable = true)\n\n"
     ]
    }
   ],
   "source": [
    "#cast in practical\n",
    "df1 = df.select(df.salary.cast('int'))\n",
    "df1.printSchema()"
   ]
  },
  {
   "cell_type": "code",
   "execution_count": 0,
   "metadata": {
    "application/vnd.databricks.v1+cell": {
     "cellMetadata": {
      "byteLimit": 2048000,
      "rowLimit": 10000
     },
     "inputWidgets": {},
     "nuid": "f65d9f60-081c-459a-8d53-805c986c0fba",
     "showTitle": false,
     "tableResultSettingsMap": {},
     "title": ""
    }
   },
   "outputs": [
    {
     "output_type": "stream",
     "name": "stdout",
     "output_type": "stream",
     "text": [
      "+---+-----+------+------+\n| id| name|gender|salary|\n+---+-----+------+------+\n|  1|manoj|  male|  2000|\n|  2|megha|female|  2000|\n+---+-----+------+------+\n\n"
     ]
    }
   ],
   "source": [
    "#Like in practical\n",
    "df.filter(df.name.like('m%')).show()"
   ]
  },
  {
   "cell_type": "code",
   "execution_count": 0,
   "metadata": {
    "application/vnd.databricks.v1+cell": {
     "cellMetadata": {},
     "inputWidgets": {},
     "nuid": "39a062a6-ca1e-4bab-ad57-94f226491e65",
     "showTitle": false,
     "tableResultSettingsMap": {},
     "title": ""
    }
   },
   "outputs": [],
   "source": []
  }
 ],
 "metadata": {
  "application/vnd.databricks.v1+notebook": {
   "dashboards": [],
   "environmentMetadata": null,
   "language": "python",
   "notebookMetadata": {
    "pythonIndentUnit": 4
   },
   "notebookName": "ALIAS_ASC_DESC_CAST_LIKE()",
   "widgets": {}
  }
 },
 "nbformat": 4,
 "nbformat_minor": 0
}
