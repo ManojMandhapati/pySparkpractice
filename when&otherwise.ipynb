{
 "cells": [
  {
   "cell_type": "code",
   "execution_count": 0,
   "metadata": {
    "application/vnd.databricks.v1+cell": {
     "cellMetadata": {
      "byteLimit": 2048000,
      "rowLimit": 10000
     },
     "inputWidgets": {},
     "nuid": "97cdc30e-56d1-4e44-9c46-840f0f9c7f33",
     "showTitle": false,
     "tableResultSettingsMap": {},
     "title": ""
    }
   },
   "outputs": [
    {
     "output_type": "stream",
     "name": "stdout",
     "output_type": "stream",
     "text": [
      "+---+-----+------+------+\n| id| name|gender|salary|\n+---+-----+------+------+\n|  1|Manoj|     M|  2000|\n|  2|Megha|     F|  3000|\n|  3|Buddi|      |  3000|\n+---+-----+------+------+\n\n"
     ]
    }
   ],
   "source": [
    "from pyspark.sql.functions import when\n",
    "\n",
    "data =[(1,'Manoj','M',2000),(2,'Megha','F',3000),(3,'Buddi','',3000)]\n",
    "schema = ['id','name','gender','salary']\n",
    "df = spark.createDataFrame(data,schema)\n",
    "df.show()"
   ]
  },
  {
   "cell_type": "code",
   "execution_count": 0,
   "metadata": {
    "application/vnd.databricks.v1+cell": {
     "cellMetadata": {
      "byteLimit": 2048000,
      "rowLimit": 10000
     },
     "inputWidgets": {},
     "nuid": "5c948582-965c-474b-9b8e-e1a4d725534c",
     "showTitle": false,
     "tableResultSettingsMap": {},
     "title": ""
    }
   },
   "outputs": [
    {
     "output_type": "stream",
     "name": "stdout",
     "output_type": "stream",
     "text": [
      "+---+-----+-------+\n| id| name| gender|\n+---+-----+-------+\n|  1|Manoj|   Male|\n|  2|Megha| Female|\n|  3|Buddi|Unknown|\n+---+-----+-------+\n\n"
     ]
    }
   ],
   "source": [
    "df1 = df.select(df.id,df.name,when(df['gender']=='M', value= 'Male')\\\n",
    "        .when(df.gender == 'F', value = 'Female')\\\n",
    "        .otherwise ('Unknown').alias('gender'))\n",
    "        \n",
    "df1.show()"
   ]
  },
  {
   "cell_type": "code",
   "execution_count": 0,
   "metadata": {
    "application/vnd.databricks.v1+cell": {
     "cellMetadata": {},
     "inputWidgets": {},
     "nuid": "46674ecb-bbd7-49a6-8a04-a7155b90c8c3",
     "showTitle": false,
     "tableResultSettingsMap": {},
     "title": ""
    }
   },
   "outputs": [],
   "source": []
  }
 ],
 "metadata": {
  "application/vnd.databricks.v1+notebook": {
   "dashboards": [],
   "environmentMetadata": null,
   "language": "python",
   "notebookMetadata": {
    "pythonIndentUnit": 4
   },
   "notebookName": "when&otherwise",
   "widgets": {}
  }
 },
 "nbformat": 4,
 "nbformat_minor": 0
}
