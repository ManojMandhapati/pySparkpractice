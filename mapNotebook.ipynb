{
 "cells": [
  {
   "cell_type": "code",
   "execution_count": 0,
   "metadata": {
    "application/vnd.databricks.v1+cell": {
     "cellMetadata": {
      "byteLimit": 2048000,
      "rowLimit": 10000
     },
     "inputWidgets": {},
     "nuid": "fb2a56da-e881-458e-bfd0-065f2715ff20",
     "showTitle": false,
     "tableResultSettingsMap": {},
     "title": ""
    }
   },
   "outputs": [
    {
     "output_type": "stream",
     "name": "stdout",
     "output_type": "stream",
     "text": [
      "[('manoj', 'mandhapati', 'manoj mandhapati'), ('megha', 'mandhapati', 'megha mandhapati')]\n"
     ]
    }
   ],
   "source": [
    "data = [('manoj','mandhapati'),('megha','mandhapati')]\n",
    "rdd = spark.sparkContext.parallelize(data)\n",
    "fullName = rdd.map(lambda x : x + (x[0]+' ' + x[1],))\n",
    "print(fullName.collect())"
   ]
  },
  {
   "cell_type": "markdown",
   "metadata": {
    "application/vnd.databricks.v1+cell": {
     "cellMetadata": {},
     "inputWidgets": {},
     "nuid": "f381a7fd-704e-4622-b368-08bfbf0aadaf",
     "showTitle": false,
     "tableResultSettingsMap": {},
     "title": ""
    }
   },
   "source": [
    "- DataFrame doesn't have map() transformation to use with DataFrame you need to generate RDD first."
   ]
  },
  {
   "cell_type": "code",
   "execution_count": 0,
   "metadata": {
    "application/vnd.databricks.v1+cell": {
     "cellMetadata": {
      "byteLimit": 2048000,
      "rowLimit": 10000
     },
     "inputWidgets": {},
     "nuid": "e1de42de-4fca-410e-bcaf-b4489fd12c0b",
     "showTitle": false,
     "tableResultSettingsMap": {},
     "title": ""
    }
   },
   "outputs": [
    {
     "output_type": "stream",
     "name": "stdout",
     "output_type": "stream",
     "text": [
      "+-----+----------+----------------+\n|   fn|        ln|        fullname|\n+-----+----------+----------------+\n|manoj|mandhapati|manoj mandhapati|\n|megha|mandhapati|megha mandhapati|\n+-----+----------+----------------+\n\n"
     ]
    }
   ],
   "source": [
    "def fullName(x):\n",
    "    return x + (x[0]+' '+ x[1],)\n",
    "\n",
    "data = [('manoj','mandhapati'),('megha','mandhapati')]\n",
    "df = spark.createDataFrame(data,['fn','ln'])\n",
    "rdd = df.rdd.map(lambda x : fullName(x))\n",
    "rdd1 = rdd.toDF(['fn','ln','fullname'])\n",
    "rdd1.show()"
   ]
  },
  {
   "cell_type": "code",
   "execution_count": 0,
   "metadata": {
    "application/vnd.databricks.v1+cell": {
     "cellMetadata": {},
     "inputWidgets": {},
     "nuid": "a70c7518-a8a2-4a3b-90ac-2aef653b6e31",
     "showTitle": false,
     "tableResultSettingsMap": {},
     "title": ""
    }
   },
   "outputs": [],
   "source": []
  }
 ],
 "metadata": {
  "application/vnd.databricks.v1+notebook": {
   "dashboards": [],
   "environmentMetadata": null,
   "language": "python",
   "notebookMetadata": {
    "pythonIndentUnit": 4
   },
   "notebookName": "mapNotebook",
   "widgets": {}
  }
 },
 "nbformat": 4,
 "nbformat_minor": 0
}
