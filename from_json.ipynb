{
 "cells": [
  {
   "cell_type": "markdown",
   "metadata": {
    "application/vnd.databricks.v1+cell": {
     "cellMetadata": {},
     "inputWidgets": {},
     "nuid": "38815068-5392-4e85-ba44-171b094ea592",
     "showTitle": false,
     "tableResultSettingsMap": {},
     "title": ""
    }
   },
   "source": [
    "##### from_json()\n",
    "- It is used to convert json string into MapType or StructType."
   ]
  },
  {
   "cell_type": "code",
   "execution_count": 0,
   "metadata": {
    "application/vnd.databricks.v1+cell": {
     "cellMetadata": {
      "byteLimit": 2048000,
      "rowLimit": 10000
     },
     "inputWidgets": {},
     "nuid": "74bcf567-41a0-43af-aba6-05d7a83bc30f",
     "showTitle": false,
     "tableResultSettingsMap": {},
     "title": ""
    }
   },
   "outputs": [],
   "source": [
    "data = [('manoj','{\"hair\":\"black\",\"eyes\":\"balck\"}')]\n",
    "schema = ['id','props']\n",
    "df = spark.createDataFrame(data,schema)"
   ]
  },
  {
   "cell_type": "code",
   "execution_count": 0,
   "metadata": {
    "application/vnd.databricks.v1+cell": {
     "cellMetadata": {
      "byteLimit": 2048000,
      "rowLimit": 10000
     },
     "inputWidgets": {},
     "nuid": "1f6ec118-59da-4d30-b7aa-6c8d4cabe132",
     "showTitle": false,
     "tableResultSettingsMap": {},
     "title": ""
    }
   },
   "outputs": [],
   "source": [
    "from pyspark.sql.functions import from_json\n",
    "from pyspark.sql.types import MapType, StringType, StructType, StructField"
   ]
  },
  {
   "cell_type": "code",
   "execution_count": 0,
   "metadata": {
    "application/vnd.databricks.v1+cell": {
     "cellMetadata": {
      "byteLimit": 2048000,
      "rowLimit": 10000
     },
     "inputWidgets": {},
     "nuid": "cbca61a9-e638-4196-80cc-754f629fff42",
     "showTitle": false,
     "tableResultSettingsMap": {},
     "title": ""
    }
   },
   "outputs": [
    {
     "output_type": "stream",
     "name": "stdout",
     "output_type": "stream",
     "text": [
      "+-----+-------------------------------+------------------------------+\n|id   |props                          |propsMap                      |\n+-----+-------------------------------+------------------------------+\n|manoj|{\"hair\":\"black\",\"eyes\":\"balck\"}|{hair -> black, eyes -> balck}|\n+-----+-------------------------------+------------------------------+\n\n"
     ]
    }
   ],
   "source": [
    "MapTypeSchema = MapType(StringType(),StringType())\n",
    "df1 = df.withColumn('propsMap',from_json(df.props,MapTypeSchema))\n",
    "df1.show(truncate = False)"
   ]
  },
  {
   "cell_type": "code",
   "execution_count": 0,
   "metadata": {
    "application/vnd.databricks.v1+cell": {
     "cellMetadata": {
      "byteLimit": 2048000,
      "rowLimit": 10000
     },
     "inputWidgets": {},
     "nuid": "a5535ef0-38ad-40d2-ad79-5e3b363008a4",
     "showTitle": false,
     "tableResultSettingsMap": {},
     "title": ""
    }
   },
   "outputs": [
    {
     "output_type": "stream",
     "name": "stdout",
     "output_type": "stream",
     "text": [
      "+-----+-------------------------------+------------------------------+-----+-----+\n|id   |props                          |propsMap                      |Hair |Eyes |\n+-----+-------------------------------+------------------------------+-----+-----+\n|manoj|{\"hair\":\"black\",\"eyes\":\"balck\"}|{hair -> black, eyes -> balck}|black|balck|\n+-----+-------------------------------+------------------------------+-----+-----+\n\n"
     ]
    }
   ],
   "source": [
    "df1.withColumn('Hair',df1.propsMap.hair)\\\n",
    "    .withColumn('Eyes',df1.propsMap.eyes).show(truncate = False)"
   ]
  },
  {
   "cell_type": "markdown",
   "metadata": {
    "application/vnd.databricks.v1+cell": {
     "cellMetadata": {},
     "inputWidgets": {},
     "nuid": "70199b20-b9fc-4a64-9264-f206fd0d64bc",
     "showTitle": false,
     "tableResultSettingsMap": {},
     "title": ""
    }
   },
   "source": [
    "- from_json() to convert json string into StructType"
   ]
  },
  {
   "cell_type": "code",
   "execution_count": 0,
   "metadata": {
    "application/vnd.databricks.v1+cell": {
     "cellMetadata": {
      "byteLimit": 2048000,
      "rowLimit": 10000
     },
     "inputWidgets": {},
     "nuid": "68e4a66e-6bdc-4293-9963-aa1161852f73",
     "showTitle": false,
     "tableResultSettingsMap": {},
     "title": ""
    }
   },
   "outputs": [],
   "source": [
    "data = [('manoj','{\"hair\":\"black\",\"eyes\":\"balck\"}')]\n",
    "schema = ['id','props']\n",
    "df = spark.createDataFrame(data,schema)"
   ]
  },
  {
   "cell_type": "code",
   "execution_count": 0,
   "metadata": {
    "application/vnd.databricks.v1+cell": {
     "cellMetadata": {
      "byteLimit": 2048000,
      "rowLimit": 10000
     },
     "inputWidgets": {},
     "nuid": "85bd15f9-a160-4d0f-87e6-8b194e64e0ac",
     "showTitle": false,
     "tableResultSettingsMap": {},
     "title": ""
    }
   },
   "outputs": [
    {
     "output_type": "stream",
     "name": "stdout",
     "output_type": "stream",
     "text": [
      "+-----+--------------------+--------------+\n|   id|               props|   propsStruct|\n+-----+--------------------+--------------+\n|manoj|{\"hair\":\"black\",\"...|{black, balck}|\n+-----+--------------------+--------------+\n\n"
     ]
    }
   ],
   "source": [
    "structTypeSchema = StructType([\\\n",
    "    StructField('hair',StringType()),\\\n",
    "        StructField('eyes',StringType())])\n",
    "\n",
    "df1 = df.withColumn('propsStruct',from_json(df.props,structTypeSchema)).show()"
   ]
  },
  {
   "cell_type": "code",
   "execution_count": 0,
   "metadata": {
    "application/vnd.databricks.v1+cell": {
     "cellMetadata": {},
     "inputWidgets": {},
     "nuid": "d679e4cf-ca75-4aac-bcf4-d63b79446250",
     "showTitle": false,
     "tableResultSettingsMap": {},
     "title": ""
    }
   },
   "outputs": [],
   "source": []
  }
 ],
 "metadata": {
  "application/vnd.databricks.v1+notebook": {
   "dashboards": [],
   "environmentMetadata": null,
   "language": "python",
   "notebookMetadata": {
    "pythonIndentUnit": 4
   },
   "notebookName": "from_json",
   "widgets": {}
  }
 },
 "nbformat": 4,
 "nbformat_minor": 0
}
