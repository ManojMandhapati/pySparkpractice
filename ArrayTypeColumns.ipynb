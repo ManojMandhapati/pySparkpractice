{
 "cells": [
  {
   "cell_type": "code",
   "execution_count": 0,
   "metadata": {
    "application/vnd.databricks.v1+cell": {
     "cellMetadata": {
      "byteLimit": 2048000,
      "rowLimit": 10000
     },
     "inputWidgets": {},
     "nuid": "1eca2dd6-7cd5-4dee-9d4f-ada8f5392668",
     "showTitle": false,
     "tableResultSettingsMap": {},
     "title": ""
    }
   },
   "outputs": [],
   "source": [
    "from pyspark.sql.types import StructType, StructField, StringType, IntegerType,ArrayType\n",
    "from pyspark.sql.functions import col,array"
   ]
  },
  {
   "cell_type": "code",
   "execution_count": 0,
   "metadata": {
    "application/vnd.databricks.v1+cell": {
     "cellMetadata": {
      "byteLimit": 2048000,
      "rowLimit": 10000
     },
     "inputWidgets": {},
     "nuid": "ea00ca83-81b3-40e4-8d08-d7cdefda9912",
     "showTitle": false,
     "tableResultSettingsMap": {},
     "title": ""
    }
   },
   "outputs": [],
   "source": [
    "data = [('Manoj',[30,30000]), ('Megha',[27,40000]),('Manasa',[32,35000]),('Naveen',[34,38500]),('Vikky',[3,3000])]\n",
    "#schema = ['Name','Age_Salary']\n",
    "\n",
    "schema = StructType().add(field = 'Name',data_type = StringType())\\\n",
    "                    .add(field = 'Age_salary', data_type = ArrayType(IntegerType()))"
   ]
  },
  {
   "cell_type": "code",
   "execution_count": 0,
   "metadata": {
    "application/vnd.databricks.v1+cell": {
     "cellMetadata": {
      "byteLimit": 2048000,
      "rowLimit": 10000
     },
     "inputWidgets": {},
     "nuid": "24e1b646-970f-472f-a0ce-26ddacc30187",
     "showTitle": false,
     "tableResultSettingsMap": {},
     "title": ""
    }
   },
   "outputs": [
    {
     "output_type": "stream",
     "name": "stdout",
     "output_type": "stream",
     "text": [
      "+------+-----------+\n|  Name| Age_salary|\n+------+-----------+\n| Manoj|[30, 30000]|\n| Megha|[27, 40000]|\n|Manasa|[32, 35000]|\n|Naveen|[34, 38500]|\n| Vikky|  [3, 3000]|\n+------+-----------+\n\nroot\n |-- Name: string (nullable = true)\n |-- Age_salary: array (nullable = true)\n |    |-- element: integer (containsNull = true)\n\n"
     ]
    }
   ],
   "source": [
    "df = spark.createDataFrame(data, schema)\n",
    "df.show()\n",
    "df.printSchema()"
   ]
  },
  {
   "cell_type": "code",
   "execution_count": 0,
   "metadata": {
    "application/vnd.databricks.v1+cell": {
     "cellMetadata": {
      "byteLimit": 2048000,
      "rowLimit": 10000
     },
     "inputWidgets": {},
     "nuid": "62cb73fa-11eb-4639-9e65-74e3b98a6b66",
     "showTitle": false,
     "tableResultSettingsMap": {},
     "title": ""
    }
   },
   "outputs": [
    {
     "output_type": "stream",
     "name": "stdout",
     "output_type": "stream",
     "text": [
      "+------+-----------+---+\n|  Name| Age_salary|Age|\n+------+-----------+---+\n| Manoj|[30, 30000]| 30|\n| Megha|[27, 40000]| 27|\n|Manasa|[32, 35000]| 32|\n|Naveen|[34, 38500]| 34|\n| Vikky|  [3, 3000]|  3|\n+------+-----------+---+\n\n"
     ]
    }
   ],
   "source": [
    "df1 = df.withColumn('Age',col('Age_salary')[0])\n",
    "df1.show()"
   ]
  },
  {
   "cell_type": "code",
   "execution_count": 0,
   "metadata": {
    "application/vnd.databricks.v1+cell": {
     "cellMetadata": {},
     "inputWidgets": {},
     "nuid": "c3dee5b6-d2d5-46a3-b7e5-ea94e61bfc02",
     "showTitle": false,
     "tableResultSettingsMap": {},
     "title": ""
    }
   },
   "outputs": [],
   "source": []
  }
 ],
 "metadata": {
  "application/vnd.databricks.v1+notebook": {
   "dashboards": [],
   "environmentMetadata": null,
   "language": "python",
   "notebookMetadata": {
    "pythonIndentUnit": 2
   },
   "notebookName": "ArrayTypeColumns",
   "widgets": {}
  }
 },
 "nbformat": 4,
 "nbformat_minor": 0
}
