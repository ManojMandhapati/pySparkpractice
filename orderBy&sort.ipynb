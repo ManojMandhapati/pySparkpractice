{
 "cells": [
  {
   "cell_type": "code",
   "execution_count": 0,
   "metadata": {
    "application/vnd.databricks.v1+cell": {
     "cellMetadata": {
      "byteLimit": 2048000,
      "rowLimit": 10000
     },
     "inputWidgets": {},
     "nuid": "0978151e-7cdb-4ccf-9298-0240911d576f",
     "showTitle": false,
     "tableResultSettingsMap": {},
     "title": ""
    }
   },
   "outputs": [
    {
     "output_type": "stream",
     "name": "stdout",
     "output_type": "stream",
     "text": [
      "+---+------+------+------+-------+\n| id|  name|gender|salary|   dept|\n+---+------+------+------+-------+\n|  1| manoj|  male|  3000|     DE|\n|  2| megha|female|  4000|     QA|\n|  3|Naveen|  male|  5000|     SE|\n|  4|Manasa|female|  6000|Payroll|\n+---+------+------+------+-------+\n\n"
     ]
    }
   ],
   "source": [
    "from pyspark.sql.functions import *\n",
    "data = [(1,'manoj','male',3000,'DE'),(2,'megha','female',4000,'QA'),(3,'Naveen','male',5000,'SE'),(4,'Manasa','female',6000,'Payroll')]\n",
    "schema = ['id','name','gender','salary','dept']\n",
    "df = spark.createDataFrame(data,schema)\n",
    "df.show()"
   ]
  },
  {
   "cell_type": "code",
   "execution_count": 0,
   "metadata": {
    "application/vnd.databricks.v1+cell": {
     "cellMetadata": {
      "byteLimit": 2048000,
      "rowLimit": 10000
     },
     "inputWidgets": {},
     "nuid": "df0adb4b-16f0-4b13-90fb-b4fa860e048f",
     "showTitle": false,
     "tableResultSettingsMap": {},
     "title": ""
    }
   },
   "outputs": [
    {
     "output_type": "stream",
     "name": "stdout",
     "output_type": "stream",
     "text": [
      "+---+------+------+------+-------+\n| id|  name|gender|salary|   dept|\n+---+------+------+------+-------+\n|  1| manoj|  male|  3000|     DE|\n|  4|Manasa|female|  6000|Payroll|\n|  2| megha|female|  4000|     QA|\n|  3|Naveen|  male|  5000|     SE|\n+---+------+------+------+-------+\n\n"
     ]
    }
   ],
   "source": [
    "df.sort(df.dept,df.id.asc()).show()"
   ]
  },
  {
   "cell_type": "code",
   "execution_count": 0,
   "metadata": {
    "application/vnd.databricks.v1+cell": {
     "cellMetadata": {
      "byteLimit": 2048000,
      "rowLimit": 10000
     },
     "inputWidgets": {},
     "nuid": "9c02f41d-4b31-4809-b072-76e04386172a",
     "showTitle": false,
     "tableResultSettingsMap": {},
     "title": ""
    }
   },
   "outputs": [
    {
     "output_type": "stream",
     "name": "stdout",
     "output_type": "stream",
     "text": [
      "+---+------+------+------+-------+\n| id|  name|gender|salary|   dept|\n+---+------+------+------+-------+\n|  3|Naveen|  male|  5000|     SE|\n|  2| megha|female|  4000|     QA|\n|  4|Manasa|female|  6000|Payroll|\n|  1| manoj|  male|  3000|     DE|\n+---+------+------+------+-------+\n\n"
     ]
    }
   ],
   "source": [
    "df.orderBy(df.dept.desc(),df.id.asc()).show()"
   ]
  },
  {
   "cell_type": "code",
   "execution_count": 0,
   "metadata": {
    "application/vnd.databricks.v1+cell": {
     "cellMetadata": {},
     "inputWidgets": {},
     "nuid": "3572d622-44fe-44c0-b884-4819de58569e",
     "showTitle": false,
     "tableResultSettingsMap": {},
     "title": ""
    }
   },
   "outputs": [],
   "source": []
  }
 ],
 "metadata": {
  "application/vnd.databricks.v1+notebook": {
   "dashboards": [],
   "environmentMetadata": null,
   "language": "python",
   "notebookMetadata": {
    "pythonIndentUnit": 4
   },
   "notebookName": "orderBy&sort",
   "widgets": {}
  }
 },
 "nbformat": 4,
 "nbformat_minor": 0
}
