{
 "cells": [
  {
   "cell_type": "markdown",
   "metadata": {
    "application/vnd.databricks.v1+cell": {
     "cellMetadata": {},
     "inputWidgets": {},
     "nuid": "eb40d36a-76e5-4017-9ba4-ebfcb6f39f82",
     "showTitle": false,
     "tableResultSettingsMap": {},
     "title": ""
    }
   },
   "source": [
    "- flatMap() is a transformation operation that flattens the RDD (array/map DataFrame columns) after applying the function on every element and returns a new pyspark RDD.\n",
    "- It is not avilable in dataframes, explode() function can be used in dataframes to flatten array."
   ]
  },
  {
   "cell_type": "code",
   "execution_count": 0,
   "metadata": {
    "application/vnd.databricks.v1+cell": {
     "cellMetadata": {
      "byteLimit": 2048000,
      "rowLimit": 10000
     },
     "inputWidgets": {},
     "nuid": "fd0ca96f-a3ab-40ad-83b6-8dd249fff173",
     "showTitle": false,
     "tableResultSettingsMap": {},
     "title": ""
    }
   },
   "outputs": [
    {
     "output_type": "stream",
     "name": "stdout",
     "output_type": "stream",
     "text": [
      "manoj mandhapati\nmegha manoj\nmanoj\nmandhapati\nmegha\nmanoj\n"
     ]
    }
   ],
   "source": [
    "data = ['manoj mandhapati', 'megha manoj']\n",
    "rdd = spark.sparkContext.parallelize(data)\n",
    "\n",
    "for item in rdd.collect():\n",
    "  print(item)\n",
    "\n",
    "rdd1 = rdd.flatMap(lambda x : x.split(' '))\n",
    "for item in rdd1.collect():\n",
    "  print(item)"
   ]
  },
  {
   "cell_type": "code",
   "execution_count": 0,
   "metadata": {
    "application/vnd.databricks.v1+cell": {
     "cellMetadata": {},
     "inputWidgets": {},
     "nuid": "42be34ca-d5ea-45ee-9371-4b4a54a9335f",
     "showTitle": false,
     "tableResultSettingsMap": {},
     "title": ""
    }
   },
   "outputs": [],
   "source": []
  }
 ],
 "metadata": {
  "application/vnd.databricks.v1+notebook": {
   "dashboards": [],
   "environmentMetadata": null,
   "language": "python",
   "notebookMetadata": {
    "pythonIndentUnit": 4
   },
   "notebookName": "flatMap",
   "widgets": {}
  }
 },
 "nbformat": 4,
 "nbformat_minor": 0
}
