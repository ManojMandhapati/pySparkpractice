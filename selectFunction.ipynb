{
 "cells": [
  {
   "cell_type": "code",
   "execution_count": 0,
   "metadata": {
    "application/vnd.databricks.v1+cell": {
     "cellMetadata": {
      "byteLimit": 2048000,
      "rowLimit": 10000
     },
     "inputWidgets": {},
     "nuid": "ff8c4bd0-c63a-49d3-b168-124671caf475",
     "showTitle": false,
     "tableResultSettingsMap": {},
     "title": ""
    }
   },
   "outputs": [],
   "source": [
    "\n",
    "from pyspark.sql.functions import *\n",
    "data = [(1,'manoj','male',3000,'DE'),(2,'megha','female',4000,'QA'),(3,'Naveen','male',5000,'QA'),(4,'Manasa','female',6000,'Payroll')]\n",
    "schema = ['id','name','gender','salary','dept']\n",
    "df = spark.createDataFrame(data,schema)"
   ]
  },
  {
   "cell_type": "code",
   "execution_count": 0,
   "metadata": {
    "application/vnd.databricks.v1+cell": {
     "cellMetadata": {
      "byteLimit": 2048000,
      "rowLimit": 10000
     },
     "inputWidgets": {},
     "nuid": "2f2e3bfa-f284-435d-a823-1258570480c8",
     "showTitle": false,
     "tableResultSettingsMap": {},
     "title": ""
    }
   },
   "outputs": [],
   "source": [
    " #select single or multiple columns\n",
    " df.select('id','dept').show()\n",
    " df.select(df.name).show()"
   ]
  },
  {
   "cell_type": "code",
   "execution_count": 0,
   "metadata": {
    "application/vnd.databricks.v1+cell": {
     "cellMetadata": {
      "byteLimit": 2048000,
      "rowLimit": 10000
     },
     "inputWidgets": {},
     "nuid": "af6a33ee-88b4-432d-8893-0febceb5238a",
     "showTitle": false,
     "tableResultSettingsMap": {},
     "title": ""
    }
   },
   "outputs": [],
   "source": [
    "#using col() function\n",
    "df.select(col('id'),col('name')).show()\n",
    "df.select(['id','salary']).show()"
   ]
  },
  {
   "cell_type": "code",
   "execution_count": 0,
   "metadata": {
    "application/vnd.databricks.v1+cell": {
     "cellMetadata": {
      "byteLimit": 2048000,
      "rowLimit": 10000
     },
     "inputWidgets": {},
     "nuid": "65edc123-06f3-4d73-ad5d-cab103b2c72d",
     "showTitle": false,
     "tableResultSettingsMap": {},
     "title": ""
    }
   },
   "outputs": [
    {
     "output_type": "stream",
     "name": "stdout",
     "output_type": "stream",
     "text": [
      "+---+------+------+------+-------+\n| id|  name|gender|salary|   dept|\n+---+------+------+------+-------+\n|  1| manoj|  male|  3000|     DE|\n|  2| megha|female|  4000|     QA|\n|  3|Naveen|  male|  5000|     QA|\n|  4|Manasa|female|  6000|Payroll|\n+---+------+------+------+-------+\n\n"
     ]
    }
   ],
   "source": [
    "df.select([col for  col in df.columns]).show()"
   ]
  },
  {
   "cell_type": "code",
   "execution_count": 0,
   "metadata": {
    "application/vnd.databricks.v1+cell": {
     "cellMetadata": {},
     "inputWidgets": {},
     "nuid": "ab4f27a0-095f-4328-93be-19ea9e68ee45",
     "showTitle": false,
     "tableResultSettingsMap": {},
     "title": ""
    }
   },
   "outputs": [],
   "source": []
  }
 ],
 "metadata": {
  "application/vnd.databricks.v1+notebook": {
   "dashboards": [],
   "environmentMetadata": null,
   "language": "python",
   "notebookMetadata": {
    "pythonIndentUnit": 4
   },
   "notebookName": "selectFunction",
   "widgets": {}
  }
 },
 "nbformat": 4,
 "nbformat_minor": 0
}
