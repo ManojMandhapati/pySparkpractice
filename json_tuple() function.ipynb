{
 "cells": [
  {
   "cell_type": "code",
   "execution_count": 0,
   "metadata": {
    "application/vnd.databricks.v1+cell": {
     "cellMetadata": {
      "byteLimit": 2048000,
      "rowLimit": 10000
     },
     "inputWidgets": {},
     "nuid": "db530abe-60ef-4fa6-ae72-6116ba6094b5",
     "showTitle": false,
     "tableResultSettingsMap": {},
     "title": ""
    }
   },
   "outputs": [],
   "source": [
    "data = [('manoj','{\"hair\":\"black\",\"eye\":\"Blue\",\"skin\":\"white\"}'),('raj','{\"hair\":\"brown\",\"eye\":\"Green\",\"skin\":\"white\"}'),('sita','{\"hair\":\"blonde\",\"eye\":\"Blue\",\"skin\":\"white\"}'),('gita','{\"hair\":\"red\",\"eye\":\"Green\",\"skin\":\"white\"}'),('hari','{\"hair\":\"black\",\"eye\":\"Blue\",\"skin\":\"white\"}'),('lakshmi','{\"hair\":\"brown\",\"eye\":\"Green\",\"skin\":\"white\"}')]\n",
    "schema = ['name','props']\n",
    "df = spark.createDataFrame(data,schema)\n",
    "df.show(truncate = False)\n",
    "df.printSchema()"
   ]
  },
  {
   "cell_type": "code",
   "execution_count": 0,
   "metadata": {
    "application/vnd.databricks.v1+cell": {
     "cellMetadata": {
      "byteLimit": 2048000,
      "rowLimit": 10000
     },
     "inputWidgets": {},
     "nuid": "57301809-b92c-4ea0-97d5-f57c6e3e6893",
     "showTitle": false,
     "tableResultSettingsMap": {},
     "title": ""
    }
   },
   "outputs": [],
   "source": [
    "from pyspark.sql.functions import json_tuple"
   ]
  },
  {
   "cell_type": "code",
   "execution_count": 0,
   "metadata": {
    "application/vnd.databricks.v1+cell": {
     "cellMetadata": {
      "byteLimit": 2048000,
      "rowLimit": 10000
     },
     "inputWidgets": {},
     "nuid": "2465dd20-0eb8-4b94-a02f-be69fdfbb437",
     "showTitle": false,
     "tableResultSettingsMap": {},
     "title": ""
    }
   },
   "outputs": [],
   "source": [
    "df.select('name',json_tuple(df.props,'hair','eye','skin').alias('hair','eye','skin')).show()"
   ]
  },
  {
   "cell_type": "code",
   "execution_count": 0,
   "metadata": {
    "application/vnd.databricks.v1+cell": {
     "cellMetadata": {},
     "inputWidgets": {},
     "nuid": "55a54932-0f0a-489e-b240-8ea571a69fa1",
     "showTitle": false,
     "tableResultSettingsMap": {},
     "title": ""
    }
   },
   "outputs": [],
   "source": []
  }
 ],
 "metadata": {
  "application/vnd.databricks.v1+notebook": {
   "dashboards": [],
   "environmentMetadata": {
    "base_environment": "",
    "client": "1"
   },
   "language": "python",
   "notebookMetadata": {
    "pythonIndentUnit": 4
   },
   "notebookName": "json_tuple() function",
   "widgets": {}
  },
  "language_info": {
   "name": "python"
  }
 },
 "nbformat": 4,
 "nbformat_minor": 0
}