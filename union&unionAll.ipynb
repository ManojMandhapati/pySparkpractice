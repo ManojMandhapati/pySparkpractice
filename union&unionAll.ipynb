{
 "cells": [
  {
   "cell_type": "code",
   "execution_count": 0,
   "metadata": {
    "application/vnd.databricks.v1+cell": {
     "cellMetadata": {
      "byteLimit": 2048000,
      "rowLimit": 10000
     },
     "inputWidgets": {},
     "nuid": "cf63d745-5f5c-4a10-b18e-5f7b510f68ce",
     "showTitle": false,
     "tableResultSettingsMap": {},
     "title": ""
    }
   },
   "outputs": [],
   "source": [
    "from pyspark.sql.functions import *\n",
    "data = [(1,'manoj','male',3000,'DE'),(2,'megha','female',4000,'QA')]\n",
    "data1 = [(2,'megha','female',4000,'QA'),(3,'Naveen','male',5000,'SE'),(4,'Manasa','female',6000,'Payroll')]\n",
    "schema = ['id','name','gender','salary','dept']\n",
    "df = spark.createDataFrame(data,schema)\n",
    "df1= spark.createDataFrame(data1,schema)\n"
   ]
  },
  {
   "cell_type": "code",
   "execution_count": 0,
   "metadata": {
    "application/vnd.databricks.v1+cell": {
     "cellMetadata": {
      "byteLimit": 2048000,
      "rowLimit": 10000
     },
     "inputWidgets": {},
     "nuid": "0fc9d4b8-ade6-414b-af06-05f75be02293",
     "showTitle": false,
     "tableResultSettingsMap": {},
     "title": ""
    }
   },
   "outputs": [],
   "source": [
    "newDf = df1.union(df)"
   ]
  },
  {
   "cell_type": "code",
   "execution_count": 0,
   "metadata": {
    "application/vnd.databricks.v1+cell": {
     "cellMetadata": {
      "byteLimit": 2048000,
      "rowLimit": 10000
     },
     "inputWidgets": {},
     "nuid": "f379c87e-fde2-4394-a59e-f5225dde78f7",
     "showTitle": false,
     "tableResultSettingsMap": {},
     "title": ""
    }
   },
   "outputs": [
    {
     "output_type": "stream",
     "name": "stdout",
     "output_type": "stream",
     "text": [
      "+---+------+------+------+-------+\n| id|  name|gender|salary|   dept|\n+---+------+------+------+-------+\n|  2| megha|female|  4000|     QA|\n|  3|Naveen|  male|  5000|     SE|\n|  4|Manasa|female|  6000|Payroll|\n|  1| manoj|  male|  3000|     DE|\n+---+------+------+------+-------+\n\n"
     ]
    }
   ],
   "source": [
    "newDf.distinct().show()"
   ]
  },
  {
   "cell_type": "code",
   "execution_count": 0,
   "metadata": {
    "application/vnd.databricks.v1+cell": {
     "cellMetadata": {},
     "inputWidgets": {},
     "nuid": "b33b5b91-3981-4c58-931e-dc765287f96b",
     "showTitle": false,
     "tableResultSettingsMap": {},
     "title": ""
    }
   },
   "outputs": [],
   "source": []
  }
 ],
 "metadata": {
  "application/vnd.databricks.v1+notebook": {
   "dashboards": [],
   "environmentMetadata": null,
   "language": "python",
   "notebookMetadata": {
    "pythonIndentUnit": 4
   },
   "notebookName": "union&unionAll",
   "widgets": {}
  }
 },
 "nbformat": 4,
 "nbformat_minor": 0
}
