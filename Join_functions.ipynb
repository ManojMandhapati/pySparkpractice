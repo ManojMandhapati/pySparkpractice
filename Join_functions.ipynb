{
 "cells": [
  {
   "cell_type": "code",
   "execution_count": 0,
   "metadata": {
    "application/vnd.databricks.v1+cell": {
     "cellMetadata": {
      "byteLimit": 2048000,
      "rowLimit": 10000
     },
     "inputWidgets": {},
     "nuid": "cfebac82-a969-48d1-a8b6-f1e7523e4e2b",
     "showTitle": false,
     "tableResultSettingsMap": {},
     "title": ""
    }
   },
   "outputs": [],
   "source": [
    "from pyspark.sql.functions import *\n",
    "emp = [(1,'manoj','male',3000,1),(2,'megha','female',4000,2),(3,'Naveen','male',5000,2),(4,'Manasa','female',6000,4)]\n",
    "dept = [(1,'DE'),(2,'QA'),(3,'Payroll')]\n",
    "schema_emp = ['id','name','gender','salary','dept']\n",
    "schema_dept = ['id','name']\n",
    "emp_df = spark.createDataFrame(emp,schema_emp)\n",
    "dept_df = spark.createDataFrame(dept,schema_dept)"
   ]
  },
  {
   "cell_type": "code",
   "execution_count": 0,
   "metadata": {
    "application/vnd.databricks.v1+cell": {
     "cellMetadata": {
      "byteLimit": 2048000,
      "rowLimit": 10000
     },
     "inputWidgets": {},
     "nuid": "69044863-2749-4a61-ad9e-dc7bad0100f1",
     "showTitle": false,
     "tableResultSettingsMap": {},
     "title": ""
    }
   },
   "outputs": [
    {
     "output_type": "stream",
     "name": "stdout",
     "output_type": "stream",
     "text": [
      "+---+------+------+------+----+---+----+\n| id|  name|gender|salary|dept| id|name|\n+---+------+------+------+----+---+----+\n|  1| manoj|  male|  3000|   1|  1|  DE|\n|  2| megha|female|  4000|   2|  2|  QA|\n|  3|Naveen|  male|  5000|   2|  2|  QA|\n+---+------+------+------+----+---+----+\n\n"
     ]
    }
   ],
   "source": [
    "emp_df.join(dept_df,emp_df.dept == dept_df.id).show() #INNER JOIN"
   ]
  },
  {
   "cell_type": "code",
   "execution_count": 0,
   "metadata": {
    "application/vnd.databricks.v1+cell": {
     "cellMetadata": {
      "byteLimit": 2048000,
      "rowLimit": 10000
     },
     "inputWidgets": {},
     "nuid": "d95f6ccd-1aca-4efa-a69b-2aaff390e07d",
     "showTitle": false,
     "tableResultSettingsMap": {},
     "title": ""
    }
   },
   "outputs": [
    {
     "output_type": "stream",
     "name": "stdout",
     "output_type": "stream",
     "text": [
      "+---+------+------+------+----+----+----+\n| id|  name|gender|salary|dept|  id|name|\n+---+------+------+------+----+----+----+\n|  1| manoj|  male|  3000|   1|   1|  DE|\n|  2| megha|female|  4000|   2|   2|  QA|\n|  3|Naveen|  male|  5000|   2|   2|  QA|\n|  4|Manasa|female|  6000|   4|null|null|\n+---+------+------+------+----+----+----+\n\n"
     ]
    }
   ],
   "source": [
    "emp_df.join(dept_df,emp_df.dept == dept_df.id, 'left').show() #LEFT JOIN"
   ]
  },
  {
   "cell_type": "code",
   "execution_count": 0,
   "metadata": {
    "application/vnd.databricks.v1+cell": {
     "cellMetadata": {
      "byteLimit": 2048000,
      "rowLimit": 10000
     },
     "inputWidgets": {},
     "nuid": "5f643de0-b183-4851-a0c6-0f973f3ae0d1",
     "showTitle": false,
     "tableResultSettingsMap": {},
     "title": ""
    }
   },
   "outputs": [
    {
     "output_type": "stream",
     "name": "stdout",
     "output_type": "stream",
     "text": [
      "+----+------+------+------+----+---+-------+\n|  id|  name|gender|salary|dept| id|   name|\n+----+------+------+------+----+---+-------+\n|   1| manoj|  male|  3000|   1|  1|     DE|\n|   3|Naveen|  male|  5000|   2|  2|     QA|\n|   2| megha|female|  4000|   2|  2|     QA|\n|null|  null|  null|  null|null|  3|Payroll|\n+----+------+------+------+----+---+-------+\n\n"
     ]
    }
   ],
   "source": [
    "emp_df.join(dept_df,emp_df.dept == dept_df.id, 'right').show() #RIGHT JOIN"
   ]
  },
  {
   "cell_type": "code",
   "execution_count": 0,
   "metadata": {
    "application/vnd.databricks.v1+cell": {
     "cellMetadata": {
      "byteLimit": 2048000,
      "rowLimit": 10000
     },
     "inputWidgets": {},
     "nuid": "1b82e771-4e5b-4b57-a413-6a9902d13f61",
     "showTitle": false,
     "tableResultSettingsMap": {},
     "title": ""
    }
   },
   "outputs": [
    {
     "output_type": "stream",
     "name": "stdout",
     "output_type": "stream",
     "text": [
      "+----+------+------+------+----+----+-------+\n|  id|  name|gender|salary|dept|  id|   name|\n+----+------+------+------+----+----+-------+\n|   1| manoj|  male|  3000|   1|   1|     DE|\n|   2| megha|female|  4000|   2|   2|     QA|\n|   3|Naveen|  male|  5000|   2|   2|     QA|\n|null|  null|  null|  null|null|   3|Payroll|\n|   4|Manasa|female|  6000|   4|null|   null|\n+----+------+------+------+----+----+-------+\n\n"
     ]
    }
   ],
   "source": [
    "emp_df.join(dept_df,emp_df.dept == dept_df.id, 'full').show() #FULL JOIN"
   ]
  },
  {
   "cell_type": "code",
   "execution_count": 0,
   "metadata": {
    "application/vnd.databricks.v1+cell": {
     "cellMetadata": {
      "byteLimit": 2048000,
      "rowLimit": 10000
     },
     "inputWidgets": {},
     "nuid": "00081e79-43d6-4302-9e21-3e0ed9e02541",
     "showTitle": false,
     "tableResultSettingsMap": {},
     "title": ""
    }
   },
   "outputs": [
    {
     "output_type": "stream",
     "name": "stdout",
     "output_type": "stream",
     "text": [
      "+---+------+------+------+----+\n| id|  name|gender|salary|dept|\n+---+------+------+------+----+\n|  1| manoj|  male|  3000|   1|\n|  2| megha|female|  4000|   2|\n|  3|Naveen|  male|  5000|   2|\n+---+------+------+------+----+\n\n"
     ]
    }
   ],
   "source": [
    "#LEFTSEMI join similar to inner join but get columns only from left dataframe for matching rows.\n",
    "emp_df.join(dept_df,emp_df.dept == dept_df.id, 'leftsemi').show() #LEFTSEMI JOIN"
   ]
  },
  {
   "cell_type": "code",
   "execution_count": 0,
   "metadata": {
    "application/vnd.databricks.v1+cell": {
     "cellMetadata": {
      "byteLimit": 2048000,
      "rowLimit": 10000
     },
     "inputWidgets": {},
     "nuid": "601eab84-ab61-4b0c-90bd-c6983236c8ac",
     "showTitle": false,
     "tableResultSettingsMap": {},
     "title": ""
    }
   },
   "outputs": [
    {
     "output_type": "stream",
     "name": "stdout",
     "output_type": "stream",
     "text": [
      "+---+------+------+------+----+\n| id|  name|gender|salary|dept|\n+---+------+------+------+----+\n|  4|Manasa|female|  6000|   4|\n+---+------+------+------+----+\n\n"
     ]
    }
   ],
   "source": [
    "#LEFTANTI gets non matching reows from left DataFrame.\n",
    "emp_df.join(dept_df,emp_df.dept == dept_df.id, 'leftanti').show() #LEFTSEMI JOIN\n"
   ]
  },
  {
   "cell_type": "code",
   "execution_count": 0,
   "metadata": {
    "application/vnd.databricks.v1+cell": {
     "cellMetadata": {
      "byteLimit": 2048000,
      "rowLimit": 10000
     },
     "inputWidgets": {},
     "nuid": "e56d2239-3bb1-4ba4-970c-c4a7c96a8029",
     "showTitle": false,
     "tableResultSettingsMap": {},
     "title": ""
    }
   },
   "outputs": [
    {
     "output_type": "stream",
     "name": "stdout",
     "output_type": "stream",
     "text": [
      "+-------+-------+\n|empName|mgrName|\n+-------+-------+\n|  manoj|   null|\n|  megha|  manoj|\n| naveen|  megha|\n+-------+-------+\n\n"
     ]
    }
   ],
   "source": [
    "#SLEF JOIN, joins data with same dataframe\n",
    "data = [(1,'manoj',0),(2,'megha',1),(3,'naveen',2)]\n",
    "schema = ['id','name','managerid']\n",
    "df = spark.createDataFrame(data,schema)\n",
    "df.alias('empData').join(df.alias('mgrData'),\\\n",
    "        col('empData.managerid') ==col ( 'mgrData.id')\\\n",
    "        ,'left')\\\n",
    "            .select (col('empData.name').alias('empName'),col('mgrData.name').alias('mgrName')).show()\n"
   ]
  },
  {
   "cell_type": "code",
   "execution_count": 0,
   "metadata": {
    "application/vnd.databricks.v1+cell": {
     "cellMetadata": {},
     "inputWidgets": {},
     "nuid": "2df147fa-b6e2-4c69-af89-fe8f7365d39c",
     "showTitle": false,
     "tableResultSettingsMap": {},
     "title": ""
    }
   },
   "outputs": [],
   "source": [
    " "
   ]
  }
 ],
 "metadata": {
  "application/vnd.databricks.v1+notebook": {
   "dashboards": [],
   "environmentMetadata": null,
   "language": "python",
   "notebookMetadata": {
    "pythonIndentUnit": 4
   },
   "notebookName": "Join_functions",
   "widgets": {}
  }
 },
 "nbformat": 4,
 "nbformat_minor": 0
}
